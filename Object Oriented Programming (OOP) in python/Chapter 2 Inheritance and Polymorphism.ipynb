{
 "cells": [
  {
   "cell_type": "markdown",
   "metadata": {},
   "source": [
    "# Object-Oriented Programming in Python on DataCamp  exercises:\n",
    "# Chapter 2 (Inheritance and Polymorphism):"
   ]
  },
  {
   "cell_type": "markdown",
   "metadata": {},
   "source": [
    "## 1.Class-level attributes\n",
    "Class attributes store data that is shared among all the class instances. They are assigned values in the class body, and are referred to using the ClassName. syntax rather than self. syntax when used in methods.\n",
    "\n",
    "In this exercise, you will be a game developer working on a game that will have several players moving on a grid and interacting with each other. As the first step, you want to define a Player class that will just move along a straight line. Player will have a position attribute and a move() method. The grid is limited, so the position of Player will have a maximal value.\n",
    "### instructions:\n",
    "#### 1/3:\n",
    "* Define a class Player that has:\n",
    "* A class attribute MAX_POSITION with value 10.\n",
    "* The \\__init__() method that sets the position instance attribute to 0.\n",
    "* Print Player.MAX_POSITION.\n",
    "* Create a Player object p and print its MAX_POSITION.\n",
    "\n",
    "##### solution:"
   ]
  },
  {
   "cell_type": "code",
   "execution_count": null,
   "metadata": {},
   "outputs": [],
   "source": [
    "# Create a Player class\n",
    "class Player:\n",
    "    MAX_POSITION=10\n",
    "    def __init__(self):\n",
    "        self.position=0        \n",
    "\n",
    "# Print Player.MAX_POSITION       \n",
    "print(Player.MAX_POSITION)\n",
    "\n",
    "# Create a player p and print its MAX_POSITITON\n",
    "p=Player()\n",
    "print(p.MAX_POSITION)"
   ]
  },
  {
   "cell_type": "markdown",
   "metadata": {},
   "source": [
    "#### 2/2:\n",
    "Add a move() method with a steps parameter such that:\n",
    "\n",
    "* if position plus steps is less than MAX_POSITION, then add steps to position and assign the result back to position;\n",
    "* otherwise, set position to MAX_POSITION.\n",
    "Take a look at the console for a visualization!\n",
    "##### solution:"
   ]
  },
  {
   "cell_type": "code",
   "execution_count": null,
   "metadata": {},
   "outputs": [],
   "source": [
    "class Player:\n",
    "    MAX_POSITION = 10\n",
    "    \n",
    "    def __init__(self):\n",
    "        self.position = 0\n",
    "\n",
    "    # Add a move() method with steps parameter\n",
    "    def move(self,steps):\n",
    "        if (self.position+steps<Player.MAX_POSITION):\n",
    "            self.position+=steps\n",
    "        else:\n",
    "            self.position=Player.MAX_POSITION\n",
    "       \n",
    "    # This method provides a rudimentary visualization in the console    \n",
    "    def draw(self):\n",
    "        drawing = \"-\" * self.position + \"|\" +\"-\"*(Player.MAX_POSITION - self.position)\n",
    "        print(drawing)\n",
    "\n",
    "p = Player(); p.draw()\n",
    "p.move(4); p.draw()\n",
    "p.move(5); p.draw()\n",
    "p.move(3); p.draw()"
   ]
  },
  {
   "cell_type": "markdown",
   "metadata": {},
   "source": [
    "## 2.Changing class attributes\n",
    "You learned how to define class attributes and how to access them from class instances. So what will happen if you try to assign another value to a class attribute when accessing it from an instance? The answer is not as simple as you might think!\n",
    "\n",
    "The Player class from the previous exercise is pre-defined. Recall that it has a position instance attribute, and MAX_SPEED and MAX_POSITION class attributes. The initial value of MAX_SPEED is 3.\n",
    "### instructions:\n",
    "#### 1/2:\n",
    "* Create two Player objects p1 and p2.\n",
    "* Print p1.MAX_SPEED and p2.MAX_SPEED.\n",
    "* Assign 7 to p1.MAX_SPEED.\n",
    "* Print p1.MAX_SPEED and p2.MAX_SPEED again.\n",
    "* Print Player.MAX_SPEED.\n",
    "* Examine the output carefully.\n",
    "##### solution:"
   ]
  },
  {
   "cell_type": "code",
   "execution_count": null,
   "metadata": {},
   "outputs": [],
   "source": [
    "# Create Players p1 and p2\n",
    "p1=Player()\n",
    "p2=Player()\n",
    "\n",
    "print(\"MAX_SPEED of p1 and p2 before assignment:\")\n",
    "# Print p1.MAX_SPEED and p2.MAX_SPEED\n",
    "print(p1.MAX_SPEED)\n",
    "print(p2.MAX_SPEED)\n",
    "\n",
    "# Assign 7 to p1.MAX_SPEED\n",
    "p1.MAX_SPEED=7\n",
    "\n",
    "print(\"MAX_SPEED of p1 and p2 after assignment:\")\n",
    "# Print p1.MAX_SPEED and p2.MAX_SPEED\n",
    "print(p1.MAX_SPEED)\n",
    "print(p2.MAX_SPEED)\n",
    "\n",
    "print(\"MAX_SPEED of Player:\")\n",
    "# Print Player.MAX_SPEED\n",
    "print(Player.MAX_SPEED)"
   ]
  },
  {
   "cell_type": "markdown",
   "metadata": {},
   "source": [
    "#### 2/2:\n",
    "Even though MAX_SPEED is shared across instances, assigning 7 to p1.MAX_SPEED didn't change the value of MAX_SPEED in p2, or in the Player class.\n",
    "\n",
    "So what happened? In fact, Python created a new instance attribute in p1, also called it MAX_SPEED, and assigned 7 to it, without touching the class attribute.\n",
    "\n",
    "Now let's change the class attribute value for real.\n",
    "\n",
    "* Modify the assignment to assign 7 to Player.MAX_SPEED instead.\n",
    "\n",
    "##### solution:"
   ]
  },
  {
   "cell_type": "code",
   "execution_count": null,
   "metadata": {},
   "outputs": [],
   "source": [
    "# Create Players p1 and p2\n",
    "p1, p2 = Player(), Player()\n",
    "\n",
    "print(\"MAX_SPEED of p1 and p2 before assignment:\")\n",
    "# Print p1.MAX_SPEED and p2.MAX_SPEED\n",
    "print(p1.MAX_SPEED)\n",
    "print(p2.MAX_SPEED)\n",
    "\n",
    "# ---MODIFY THIS LINE--- \n",
    "Player.MAX_SPEED = 7\n",
    "\n",
    "print(\"MAX_SPEED of p1 and p2 after assignment:\")\n",
    "# Print p1.MAX_SPEED and p2.MAX_SPEED\n",
    "print(p1.MAX_SPEED)\n",
    "print(p2.MAX_SPEED)\n",
    "\n",
    "print(\"MAX_SPEED of Player:\")\n",
    "# Print Player.MAX_SPEED\n",
    "print(Player.MAX_SPEED)"
   ]
  },
  {
   "cell_type": "markdown",
   "metadata": {},
   "source": [
    "## 3.Alternative constructors\n",
    "Python allows you to define class methods as well, using the @classmethod decorator and a special first argument cls. The main use of class methods is defining methods that return an instance of the class, but aren't using the same code as \\__init__().\n",
    "\n",
    "For example, you are developing a time series package and want to define your own class for working with dates, BetterDate. The attributes of the class will be year, month, and day. You want to have a constructor that creates BetterDate objects given the values for year, month, and day, but you also want to be able to create BetterDate objects from strings like 2020-04-30.\n",
    "\n",
    "You might find the following functions useful:\n",
    "\n",
    "* .split(\"-\") method will split a string at\"-\" into an array, e.g. \"2020-04-30\".split(\"-\") returns [\"2020\", \"04\", \"30\"],\n",
    "* int() will convert a string into a number, e.g. int(\"2019\") is 2019 .\n",
    "### instructions:\n",
    "#### 1/2:\n",
    "Add a class method from_str() that:\n",
    "\n",
    "* accepts a string datestr of the format'YYYY-MM-DD',\n",
    "* splits datestr and converts each part into an integer,\n",
    "* returns an instance of the class with the attributes set to the values extracted from datestr.\n",
    "\n",
    "##### solution:"
   ]
  },
  {
   "cell_type": "code",
   "execution_count": null,
   "metadata": {},
   "outputs": [],
   "source": [
    "class BetterDate:    \n",
    "    # Constructor\n",
    "    def __init__(self, year, month, day):\n",
    "      # Recall that Python allows multiple variable assignments in one line\n",
    "      self.year, self.month, self.day = year, month, day\n",
    "    \n",
    "    # Define a class method from_str\n",
    "    @classmethod\n",
    "    def from_str(cls, datestr):\n",
    "        # Split the string at \"-\" and convert each part to integer\n",
    "        parts = datestr.split(\"-\")\n",
    "        year, month, day = int(parts[0]), int(parts[1]), int(parts[2])\n",
    "        # Return the class instance\n",
    "        return BetterDate(year, month, day)\n",
    "        \n",
    "bd = BetterDate.from_str('2020-04-30')   \n",
    "print(bd.year)\n",
    "print(bd.month)\n",
    "print(bd.day)"
   ]
  },
  {
   "cell_type": "markdown",
   "metadata": {},
   "source": [
    "#### 2/2:\n",
    "For compatibility, you also want to be able to convert a datetime object into a BetterDate object.\n",
    "\n",
    "* Add a class method from_datetime() that accepts a datetime object as the argument, and uses its attributes .year, .month and .day to create a BetterDate object with the same attribute values.\n",
    "##### solution:"
   ]
  },
  {
   "cell_type": "code",
   "execution_count": null,
   "metadata": {},
   "outputs": [],
   "source": [
    "# import datetime from datetime\n",
    "from datetime import datetime\n",
    "\n",
    "class BetterDate:\n",
    "    def __init__(self, year, month, day):\n",
    "      self.year, self.month, self.day = year, month, day\n",
    "      \n",
    "    @classmethod\n",
    "    def from_str(cls, datestr):\n",
    "        year, month, day = map(int, datestr.split(\"-\"))\n",
    "        return cls(year, month, day)\n",
    "      \n",
    "    # Define a class method from_datetime accepting a datetime object\n",
    "    @classmethod\n",
    "    def from_datetime(cls,date_time):\n",
    "        year, month, day = date_time.year , date_time.month, date_time.day\n",
    "        return cls(year, month, day)\n",
    "\n",
    "# You should be able to run the code below with no errors: \n",
    "today = datetime.today()     \n",
    "bd = BetterDate.from_datetime(today)   \n",
    "print(bd.year)\n",
    "print(bd.month)\n",
    "print(bd.day)"
   ]
  },
  {
   "cell_type": "markdown",
   "metadata": {},
   "source": [
    "## 4.Understanding inheritance\n",
    "Inheritance is a powerful tool of object-oriented languages that allows you to customize functionality of existing classes without having to re-implement methods from scratch.\n",
    "\n",
    "In this exercise you'll check your understanding of the basics of inheritance. In the questions, we'll make use of the following two classes:\n",
    "\n",
    "class Counter:\n",
    "\n",
    "    def __init__(self, count):\n",
    "       self.count = count\n",
    "\n",
    "    def add_counts(self, n):\n",
    "       self.count += n\n",
    "\n",
    "class Indexer(Counter):\n",
    "    \n",
    "    pass\n",
    "\n",
    "### instructions:\n",
    "Classify the cards into the correct buckets. Are the statements true or false?\n",
    "##### solution:"
   ]
  },
  {
   "attachments": {
    "Capture.PNG": {
     "image/png": "[encoded data removed]"
    }
   },
   "cell_type": "markdown",
   "metadata": {},
   "source": [
    "![Capture.PNG](attachment:Capture.PNG)"
   ]
  },
  {
   "cell_type": "markdown",
   "metadata": {},
   "source": [
    "## 5. Create a subclass\n",
    "The purpose of child classes -- or sub-classes, as they are usually called - is to customize and extend functionality of the parent class.\n",
    "\n",
    "Recall the Employee class from earlier in the course. In most organizations, managers enjoy more privileges and more responsibilities than a regular employee. So it would make sense to introduce a Manager class that has more functionality than Employee.\n",
    "\n",
    "But a Manager is still an employee, so the Manager class should be inherited from the Employee class.\n",
    "### instructions:\n",
    "#### 1/2:\n",
    "* Add an empty Manager class that is inherited from Employee.\n",
    "* Create an object mng of the Manager class with the name Debbie Lashko and salary 86500.\n",
    "* Print the name of mng.\n",
    "##### solution:"
   ]
  },
  {
   "cell_type": "code",
   "execution_count": null,
   "metadata": {},
   "outputs": [],
   "source": [
    "class Employee:\n",
    "  MIN_SALARY = 30000    \n",
    "\n",
    "  def __init__(self, name, salary=MIN_SALARY):\n",
    "      self.name = name\n",
    "      if salary >= Employee.MIN_SALARY:\n",
    "        self.salary = salary\n",
    "      else:\n",
    "        self.salary = Employee.MIN_SALARY\n",
    "        \n",
    "  def give_raise(self, amount):\n",
    "      self.salary += amount      \n",
    "        \n",
    "# Define a new class Manager inheriting from Employee\n",
    "class Manager(Employee):\n",
    "  pass\n",
    "\n",
    "# Define a Manager object\n",
    "mng = Manager(\"Debbie Lashko\",86500)\n",
    "\n",
    "# Print mng's name\n",
    "print(mng.name)"
   ]
  },
  {
   "cell_type": "markdown",
   "metadata": {},
   "source": [
    "#### 2/2:\n",
    "* Remove the pass statement and add a display() method to the Manager class that just prints the string \"Manager\" followed by the full name, e.g. \"Manager Katie Flatcher\"\n",
    "* Call the .display() method from the mnginstance.\n",
    "##### solution:"
   ]
  },
  {
   "cell_type": "code",
   "execution_count": null,
   "metadata": {},
   "outputs": [],
   "source": [
    "class Employee:\n",
    "  MIN_SALARY = 30000    \n",
    "\n",
    "  def __init__(self, name, salary=MIN_SALARY):\n",
    "      self.name = name\n",
    "      if salary >= Employee.MIN_SALARY:\n",
    "        self.salary = salary\n",
    "      else:\n",
    "        self.salary = Employee.MIN_SALARY\n",
    "  def give_raise(self, amount):\n",
    "    self.salary += amount      \n",
    "        \n",
    "# MODIFY Manager class and add a display method\n",
    "class Manager(Employee):\n",
    "  def display(self):\n",
    "    print(\"Manager\",self.name)\n",
    "\n",
    "mng = Manager(\"Debbie Lashko\", 86500)\n",
    "print(mng.name)\n",
    "\n",
    "# Call mng.display()\n",
    "mng.display()"
   ]
  },
  {
   "cell_type": "markdown",
   "metadata": {},
   "source": [
    "## 6. Method inheritance\n",
    "Inheritance is powerful because it allows us to reuse and customize code without rewriting existing code. By calling methods of the parent class within the child class, we reuse all the code in those methods, making our code concise and manageable.\n",
    "\n",
    "In this exercise, you'll continue working with the Manager class that is inherited from the Employee class. You'll add new data to the class, and customize the give_raise() method from Chapter 1 to increase the manager's raise amount by a bonus percentage whenever they are given a raise.\n",
    "\n",
    "A simplified version of the Employee class, as well as the beginning of the Manager class from the previous lesson is provided for you in the script pane.\n",
    "### instructions:\n",
    "#### 1/2:\n",
    "Add a constructor to Manager that:\n",
    "\n",
    "* accepts name, salary (default 50000), and project (default None)\n",
    "* calls the constructor of the Employee class with the name and salary parameters,\n",
    "* creates a project attribute and sets it to the project parameter.\n",
    "##### solution:"
   ]
  },
  {
   "cell_type": "code",
   "execution_count": null,
   "metadata": {},
   "outputs": [],
   "source": [
    "class Employee:\n",
    "    def __init__(self, name, salary=30000):\n",
    "        self.name = name\n",
    "        self.salary = salary\n",
    "\n",
    "    def give_raise(self, amount):\n",
    "        self.salary += amount\n",
    "\n",
    "        \n",
    "class Manager(Employee):\n",
    "  # Add a constructor \n",
    "    def __init__(self, name, salary=50000, project=None):\n",
    "\n",
    "        # Call the parent's constructor   \n",
    "        Employee.__init__(self, name, salary)\n",
    "\n",
    "        # Assign project attribute\n",
    "        self.project=project  \n",
    "\n",
    "  \n",
    "    def display(self):\n",
    "        print(\"Manager \", self.name)"
   ]
  },
  {
   "cell_type": "markdown",
   "metadata": {},
   "source": [
    "#### 2/2:\n",
    "Add a give_raise() method to Manager that:\n",
    "\n",
    "* accepts the same parameters as Employee.give_raise(), plus a bonus parameter with the default value of 1.05 (bonus of 5%),\n",
    "* multiplies amount by bonus,\n",
    "* uses the Employee's method to raise salary by that product.\n",
    "##### solution:"
   ]
  },
  {
   "cell_type": "code",
   "execution_count": null,
   "metadata": {},
   "outputs": [],
   "source": [
    "class Employee:\n",
    "    def __init__(self, name, salary=30000):\n",
    "        self.name = name\n",
    "        self.salary = salary\n",
    "\n",
    "    def give_raise(self, amount):\n",
    "        self.salary += amount\n",
    "\n",
    "        \n",
    "class Manager(Employee):\n",
    "    def display(self):\n",
    "        print(\"Manager \", self.name)\n",
    "\n",
    "    def __init__(self, name, salary=50000, project=None):\n",
    "        Employee.__init__(self, name, salary)\n",
    "        self.project = project\n",
    "\n",
    "    # Add a give_raise method\n",
    "    def give_raise(self,amount,bonus=1.05):\n",
    "        Employee.give_raise(self,amount*bonus)\n",
    "\n",
    "\n",
    "    \n",
    "    \n",
    "mngr = Manager(\"Ashta Dunbar\", 78500)\n",
    "mngr.give_raise(1000)\n",
    "print(mngr.salary)\n",
    "mngr.give_raise(2000, bonus=1.03)\n",
    "print(mngr.salary)"
   ]
  },
  {
   "cell_type": "markdown",
   "metadata": {},
   "source": [
    "## 7. Inheritance of class attributes\n",
    "In the beginning of this chapter, you learned about class attributes and methods that are shared among all the instances of a class. How do they work with inheritance?\n",
    "\n",
    "In this exercise, you'll create subclasses of the Player class from the first lesson of the chapter, and explore the inheritance of class attributes and methods.\n",
    "\n",
    "The Player class has been defined for you. Recall that the Player class had two class-level attributes: MAX_POSITION and MAX_SPEED, with default values 10 and 3.\n",
    "### instructions:\n",
    "#### 1/2:\n",
    "* Create a class Racer inherited from Player,\n",
    "* Assign 5 to MAX_SPEED in the body of the class.\n",
    "* Create a Player object p and a Racer object r (no arguments needed for the constructor).\n",
    "\n",
    "Examine the printouts carefully. Next step is a quiz!\n",
    "##### solution:"
   ]
  },
  {
   "cell_type": "code",
   "execution_count": null,
   "metadata": {},
   "outputs": [],
   "source": [
    "# Create a Racer class and set MAX_SPEED to 5\n",
    "class Racer(Player):\n",
    "    MAX_SPEED=5\n",
    " \n",
    "# Create a Player and a Racer objects\n",
    "p = Player()\n",
    "r = Racer()\n",
    "\n",
    "print(\"p.MAX_SPEED = \", p.MAX_SPEED)\n",
    "print(\"r.MAX_SPEED = \", r.MAX_SPEED)\n",
    "\n",
    "print(\"p.MAX_POSITION = \", p.MAX_POSITION)\n",
    "print(\"r.MAX_POSITION = \", r.MAX_POSITION)"
   ]
  },
  {
   "cell_type": "markdown",
   "metadata": {},
   "source": [
    "#### 2/2:\n",
    "Question:   \n",
    "Which of the following statements about inheritance of class attributes is correct?\n",
    "##### solution:\n",
    "\n",
    "Class attributes CAN be inherited, and the value of class attributes CAN be overwritten in the child class"
   ]
  },
  {
   "cell_type": "markdown",
   "metadata": {},
   "source": [
    "## 8. Customizing a DataFrame\n",
    "In your company, any data has to come with a timestamp recording when the dataset was created, to make sure that outdated information is not being used. You would like to use pandas DataFrames for processing data, but you would need to customize the class to allow for the use of timestamps.\n",
    "\n",
    "In this exercise, you will implement a small LoggedDF class that inherits from a regular pandas DataFrame but has a created_at attribute storing the timestamp. You will then augment the standard to_csv() method to always include a column storing the creation date.\n",
    "\n",
    "Tip: all DataFrame methods have many parameters, and it is not sustainable to copy all of them for each method you're customizing. The trick is to use variable-length arguments \\*args and \\*\\*kwargsto catch all of them.\n",
    "### instructions:\n",
    "#### 1/2:\n",
    "* Import pandas as pd.\n",
    "* Define LoggedDF class inherited from pd.DataFrame.\n",
    "* Define a constructor with arguments \\*args and \\*\\*kwargs that:\n",
    "    * calls the pd.DataFrame constructor with the same arguments,\n",
    "    * assigns datetime.today() to self.created_at.\n",
    "##### solution:"
   ]
  },
  {
   "cell_type": "code",
   "execution_count": null,
   "metadata": {},
   "outputs": [],
   "source": [
    "# Import pandas as pd\n",
    "import pandas as pd\n",
    "\n",
    "# Define LoggedDF inherited from pd.DataFrame and add the constructor\n",
    "class LoggedDF(pd.DataFrame):\n",
    "    def __init__(self,*args,**kwargs):\n",
    "        pd.DataFrame.__init__(self,*args,**kwargs)\n",
    "        self.created_at=datetime.today()\n",
    "    \n",
    "    \n",
    "ldf = LoggedDF({\"col1\": [1,2], \"col2\": [3,4]})\n",
    "print(ldf.values)\n",
    "print(ldf.created_at)"
   ]
  },
  {
   "cell_type": "markdown",
   "metadata": {},
   "source": [
    "#### 2/2:\n",
    "* Add a to_csv() method to LoggedDF that:\n",
    "* copies self to a temporary DataFrame using .copy(),\n",
    "* creates a new column created_at in the temporary DataFrame and fills it with self.created_at\n",
    "* calls pd.DataFrame.to_csv() on the temporary variable.\n",
    "##### solution:"
   ]
  },
  {
   "cell_type": "code",
   "execution_count": null,
   "metadata": {},
   "outputs": [],
   "source": [
    "# Import pandas as pd\n",
    "import pandas as pd\n",
    "\n",
    "# Define LoggedDF inherited from pd.DataFrame and add the constructor\n",
    "class LoggedDF(pd.DataFrame):\n",
    "  \n",
    "  def __init__(self, *args, **kwargs):\n",
    "    pd.DataFrame.__init__(self, *args, **kwargs)\n",
    "    self.created_at = datetime.today()\n",
    "    \n",
    "  def to_csv(self, *args, **kwargs):\n",
    "    # Copy self to a temporary DataFrame\n",
    "    temp = self.copy()\n",
    "    \n",
    "    # Create a new column filled with self.created_at\n",
    "    temp[\"created_at\"] = self.created_at\n",
    "    \n",
    "    # Call pd.DataFrame.to_csv on temp, passing in *args and **kwargs\n",
    "    pd.DataFrame.to_csv(temp, *args, **kwargs)"
   ]
  }
 ],
 "metadata": {
  "kernelspec": {
   "display_name": "Python 3",
   "language": "python",
   "name": "python3"
  },
  "language_info": {
   "codemirror_mode": {
    "name": "ipython",
    "version": 3
   },
   "file_extension": ".py",
   "mimetype": "text/x-python",
   "name": "python",
   "nbconvert_exporter": "python",
   "pygments_lexer": "ipython3",
   "version": "3.7.3"
  }
 },
 "nbformat": 4,
 "nbformat_minor": 2
}
